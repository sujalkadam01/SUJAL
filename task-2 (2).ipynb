{
 "cells": [
  {
   "cell_type": "markdown",
   "id": "0484d98d-b8b9-409d-bb0a-17a70716f085",
   "metadata": {},
   "source": [
    "Name: Sujal Vitthal Kadam || branch: co || task-2"
   ]
  },
  {
   "cell_type": "markdown",
   "id": "dccf5c7f-2120-4e69-8a82-f93b6b2196a8",
   "metadata": {},
   "source": [
    "# List"
   ]
  },
  {
   "cell_type": "code",
   "execution_count": null,
   "id": "62ca1304-5f2c-40b7-861e-6100a1722609",
   "metadata": {},
   "outputs": [],
   "source": [
    "list=[1,2,3,4,5,6,7,8]"
   ]
  },
  {
   "cell_type": "code",
   "execution_count": 2,
   "id": "86c7e64a-1e6f-4c15-ad19-692a14377bd6",
   "metadata": {},
   "outputs": [
    {
     "name": "stdout",
     "output_type": "stream",
     "text": [
      "[1, 2, 3, 4, 5, 6, 7, 8]\n"
     ]
    }
   ],
   "source": [
    "print(list)"
   ]
  },
  {
   "cell_type": "code",
   "execution_count": 3,
   "id": "7db26025-44ac-49fd-a288-187a855d48dd",
   "metadata": {},
   "outputs": [],
   "source": [
    "list[4]=9"
   ]
  },
  {
   "cell_type": "code",
   "execution_count": 4,
   "id": "f59fa5ed-3d08-4722-9bf2-258b9c6d260c",
   "metadata": {},
   "outputs": [
    {
     "name": "stdout",
     "output_type": "stream",
     "text": [
      "[1, 2, 3, 4, 9, 6, 7, 8]\n"
     ]
    }
   ],
   "source": [
    "print(list)"
   ]
  },
  {
   "cell_type": "markdown",
   "id": "41988282-7e9d-45c1-9968-ede4b7c0fc48",
   "metadata": {},
   "source": [
    "# Tuple "
   ]
  },
  {
   "cell_type": "code",
   "execution_count": 4,
   "id": "ef109556-6bf9-402a-b93b-5abedbbdf5cf",
   "metadata": {},
   "outputs": [],
   "source": [
    "empty_tuple=()"
   ]
  },
  {
   "cell_type": "code",
   "execution_count": 5,
   "id": "028af89c-cf8e-415f-84c6-6089e22cea6b",
   "metadata": {},
   "outputs": [],
   "source": [
    "t=(3,)"
   ]
  },
  {
   "cell_type": "code",
   "execution_count": 6,
   "id": "a233de8b-7426-4984-87cd-f8f2d006db4f",
   "metadata": {},
   "outputs": [],
   "source": [
    "numbers=(1,2,3,4,5,6)"
   ]
  },
  {
   "cell_type": "code",
   "execution_count": 11,
   "id": "f7b5d9ff-23da-4009-a5f0-dbb5b41d91ec",
   "metadata": {},
   "outputs": [],
   "source": [
    "my_tuple=(23,34,12,1,56)"
   ]
  },
  {
   "cell_type": "code",
   "execution_count": 12,
   "id": "048b237c-84a7-4017-82bd-2a53ca8ff956",
   "metadata": {},
   "outputs": [
    {
     "name": "stdout",
     "output_type": "stream",
     "text": [
      "(23, 34, 12, 1, 56)\n"
     ]
    }
   ],
   "source": [
    "print(my_tuple)"
   ]
  },
  {
   "cell_type": "code",
   "execution_count": 7,
   "id": "5f1fd6e2-0589-4bb7-8d9f-75bb54475299",
   "metadata": {},
   "outputs": [
    {
     "name": "stdout",
     "output_type": "stream",
     "text": [
      "prachi\n",
      "21\n"
     ]
    }
   ],
   "source": [
    "p=(\"prachi\",21,\"python\")#packing\n",
    "name,age,sub=p #unpacking\n",
    "print(name)\n",
    "print(age)"
   ]
  },
  {
   "cell_type": "code",
   "execution_count": 11,
   "id": "c5469983",
   "metadata": {},
   "outputs": [
    {
     "name": "stdout",
     "output_type": "stream",
     "text": [
      "prachi\n",
      "python\n"
     ]
    }
   ],
   "source": [
    "p=(\"prachi\",21,\"python\")#packing\n",
    "name,age,sub=p #unpacking\n",
    "print(name)\n",
    "print(sub)"
   ]
  },
  {
   "cell_type": "code",
   "execution_count": 12,
   "id": "96de1cc5",
   "metadata": {},
   "outputs": [
    {
     "name": "stdout",
     "output_type": "stream",
     "text": [
      "prachi\n",
      "21\n",
      "python\n"
     ]
    }
   ],
   "source": [
    "p=(\"prachi\",21,\"python\")#packing\n",
    "name,age,sub=p #unpacking\n",
    "print(name)\n",
    "print(age)\n",
    "print(sub)"
   ]
  },
  {
   "cell_type": "markdown",
   "id": "7fc7285a-75d8-4e0a-a41f-f2d85eed69c0",
   "metadata": {},
   "source": [
    "# Sets"
   ]
  },
  {
   "cell_type": "code",
   "execution_count": 14,
   "id": "affc7307-71ea-439c-b34d-34aa586df27a",
   "metadata": {},
   "outputs": [],
   "source": [
    "s={}"
   ]
  },
  {
   "cell_type": "code",
   "execution_count": 15,
   "id": "9eba2327-a429-4276-9619-da11fcd8199e",
   "metadata": {},
   "outputs": [],
   "source": [
    "empty_set=set()"
   ]
  },
  {
   "cell_type": "code",
   "execution_count": 16,
   "id": "b8d74442-3af7-4e9e-bd7b-d2031b8693c6",
   "metadata": {},
   "outputs": [
    {
     "name": "stdout",
     "output_type": "stream",
     "text": [
      "{}\n"
     ]
    }
   ],
   "source": [
    "print(s)"
   ]
  },
  {
   "cell_type": "code",
   "execution_count": 17,
   "id": "55358211-b048-4d66-8d14-7f4b8cfbf4f7",
   "metadata": {},
   "outputs": [],
   "source": [
    "numbers={1,2,3,4,5,6}"
   ]
  },
  {
   "cell_type": "code",
   "execution_count": 18,
   "id": "741cdaf7-781f-4666-9902-cd5445357a1e",
   "metadata": {},
   "outputs": [],
   "source": [
    "mixed_set={2,\"prachi\",4,15,True}"
   ]
  },
  {
   "cell_type": "code",
   "execution_count": 19,
   "id": "e383864f-dbf8-438e-ae90-23e02cb56964",
   "metadata": {},
   "outputs": [
    {
     "name": "stdout",
     "output_type": "stream",
     "text": [
      "{1, 2, 3, 4, 5, 6}\n"
     ]
    }
   ],
   "source": [
    "print(numbers)"
   ]
  },
  {
   "cell_type": "code",
   "execution_count": 20,
   "id": "cc089f36-6858-4c6d-b778-7554b122fb13",
   "metadata": {},
   "outputs": [
    {
     "name": "stdout",
     "output_type": "stream",
     "text": [
      "{True, 2, 4, 'prachi', 15}\n"
     ]
    }
   ],
   "source": [
    "print(mixed_set)"
   ]
  },
  {
   "cell_type": "code",
   "execution_count": 22,
   "id": "90ea2a75-e396-470e-8367-3e8eaaf6b3be",
   "metadata": {},
   "outputs": [
    {
     "name": "stdout",
     "output_type": "stream",
     "text": [
      "<class 'set'>\n"
     ]
    }
   ],
   "source": [
    "print(type(mixed_set))"
   ]
  }
 ],
 "metadata": {
  "kernelspec": {
   "display_name": "base",
   "language": "python",
   "name": "python3"
  },
  "language_info": {
   "codemirror_mode": {
    "name": "ipython",
    "version": 3
   },
   "file_extension": ".py",
   "mimetype": "text/x-python",
   "name": "python",
   "nbconvert_exporter": "python",
   "pygments_lexer": "ipython3",
   "version": "3.13.5"
  }
 },
 "nbformat": 4,
 "nbformat_minor": 5
}
